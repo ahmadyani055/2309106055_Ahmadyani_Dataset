{
 "cells": [
  {
   "cell_type": "code",
   "execution_count": null,
   "id": "b589a213-4822-432a-bac8-55d77a01e42b",
   "metadata": {},
   "outputs": [],
   "source": []
  }
 ],
 "metadata": {
  "kernelspec": {
   "display_name": "",
   "name": ""
  },
  "language_info": {
   "name": ""
  }
 },
 "nbformat": 4,
 "nbformat_minor": 5
}
